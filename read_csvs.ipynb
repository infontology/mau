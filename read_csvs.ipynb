{
 "cells": [
  {
   "cell_type": "code",
   "execution_count": 1,
   "metadata": {
    "collapsed": true
   },
   "outputs": [],
   "source": [
    "%matplotlib inline\n",
    "\n",
    "import numpy as np\n",
    "import csv\n",
    "\n",
    "import matplotlib\n",
    "import matplotlib.pyplot as plt"
   ]
  },
  {
   "cell_type": "markdown",
   "metadata": {},
   "source": [
    "Läs in filen till en np-array som heter array"
   ]
  },
  {
   "cell_type": "code",
   "execution_count": 6,
   "metadata": {},
   "outputs": [],
   "source": [
    "array = np.zeros((134,24),dtype='<U200') \n",
    "# Om man har array till rätt format från början kan man kopiera och ha sig sen. \n",
    "\n",
    "with open('data.csv', newline='') as csvfile:\n",
    "    filereader = csv.reader(csvfile, delimiter=';', quotechar='|')\n",
    "    for index, row in enumerate(filereader):\n",
    "        array[index]=row\n",
    "        #print(row)\n",
    "        #print(index)"
   ]
  },
  {
   "cell_type": "markdown",
   "metadata": {},
   "source": [
    "Det är bara vissa rader och vissa kolumner som har vettiga värden.\n",
    "\n",
    "Skapa dataset så att bara det som ska analyseras finns med."
   ]
  },
  {
   "cell_type": "code",
   "execution_count": 7,
   "metadata": {},
   "outputs": [
    {
     "data": {
      "text/plain": [
       "array([[ 6,  9,  6,  5,  7,  8,  9,  9,  1, 27,  1],\n",
       "       [ 5,  6,  4,  4,  6,  6,  3,  5,  0, 26,  0],\n",
       "       [ 5,  6,  7,  7,  8,  7,  9,  8,  1, 20,  1],\n",
       "       [ 3,  5,  4,  6,  8, 10,  7,  9,  1, 20,  1],\n",
       "       [ 8,  8,  5,  8,  7,  8,  3,  8,  1, 33,  1],\n",
       "       [ 8,  7,  7,  7,  5,  8,  5,  8,  0, 26,  1],\n",
       "       [ 8,  8,  3,  8,  2, 10,  2,  6,  0, 24,  1],\n",
       "       [ 5,  8,  4,  4,  4,  4,  5,  6,  1, 29,  0],\n",
       "       [ 3,  4,  2,  2,  4,  5,  4,  5,  0, 30,  0],\n",
       "       [ 3,  4,  6,  7,  6,  7,  1,  3,  0, 30,  1],\n",
       "       [ 7,  8,  4,  8,  7,  5,  3,  6,  0, 30,  1],\n",
       "       [ 7,  8,  6,  7,  4,  7,  6,  7,  0, 27,  1],\n",
       "       [ 7,  5,  7,  9,  3,  7,  3,  8,  0, 28,  1],\n",
       "       [ 3,  5,  1,  3,  7,  5,  5,  5,  0, 30,  1],\n",
       "       [ 4,  8,  8,  8,  8,  8,  8,  7,  0, 30,  1],\n",
       "       [ 2,  7,  2,  7,  2,  8,  2,  2,  1, 26,  1],\n",
       "       [ 8,  6,  7,  9,  5,  8,  4,  7,  0, 25,  1],\n",
       "       [ 9,  9,  6,  9,  5,  9,  8,  8,  0, 30,  1],\n",
       "       [ 6,  7,  6,  7,  6,  6,  4,  7,  0, 31,  1],\n",
       "       [ 5,  5,  1, 10,  1,  8,  3, 10,  1, 29,  0],\n",
       "       [ 5,  2,  1,  1,  2,  1,  1,  1,  1, 32,  1],\n",
       "       [ 5,  1, 10,  1, 10,  6,  5, 10,  0, 27,  1],\n",
       "       [ 3,  7,  5,  5,  5,  5,  3,  3,  1, 30,  1],\n",
       "       [ 6,  5,  6,  6,  7,  6,  6,  7,  0, 24,  1],\n",
       "       [ 7,  4,  6,  4,  3,  8,  3,  9,  1, 29,  1],\n",
       "       [ 3,  8,  3,  9,  3,  8,  4,  7,  1, 23,  1],\n",
       "       [10,  7,  3,  1,  4,  5,  2,  2,  1, 26,  1],\n",
       "       [10,  7,  1,  6,  7,  1, 10,  1,  1, 20,  1],\n",
       "       [10,  1,  8,  1, 10,  2,  1,  1,  0, 25,  1],\n",
       "       [ 8, 10,  9, 10,  3, 10,  7, 10,  0, 26,  1],\n",
       "       [ 4,  7,  6,  7,  4,  5,  7,  3,  0, 26,  1],\n",
       "       [ 7,  7,  6,  7,  6,  7,  5,  3,  1, 25,  1],\n",
       "       [ 5,  9,  3,  3,  7,  8,  3,  9,  1, 23,  1],\n",
       "       [ 8,  5,  8,  5,  8,  6,  8,  8,  1, 26,  1],\n",
       "       [ 6,  1,  3,  1,  5,  2,  3,  4,  1, 26,  1],\n",
       "       [ 6, 10, 10,  3,  6,  3,  4,  2,  1, 26,  1],\n",
       "       [ 6,  6,  3,  3,  7,  3,  2,  2,  1, 22,  0],\n",
       "       [ 9,  7,  9,  9,  3,  9,  8,  8,  0, 23,  1],\n",
       "       [ 5,  9,  8,  7,  8,  9,  8,  5,  0, 26,  1],\n",
       "       [ 1,  1,  2,  1,  2,  1,  1,  1,  1, 30,  1],\n",
       "       [ 7,  4,  5,  2,  5,  3,  4,  3,  1, 30,  0],\n",
       "       [ 6,  8,  6,  8,  8,  6,  9,  9,  0, 31,  1]])"
      ]
     },
     "execution_count": 7,
     "metadata": {},
     "output_type": "execute_result"
    }
   ],
   "source": [
    "columns = [3,4,5,6,11,12,13,14,17,18,19]\n",
    "dataset = array[:,columns]\n",
    "dataset = dataset[1:43].astype(int)\n",
    "dataset"
   ]
  },
  {
   "cell_type": "code",
   "execution_count": 4,
   "metadata": {},
   "outputs": [
    {
     "data": {
      "text/plain": [
       "26.0"
      ]
     },
     "execution_count": 4,
     "metadata": {},
     "output_type": "execute_result"
    }
   ],
   "source": [
    "np.median(dataset[:,9]) #Median-ålder"
   ]
  },
  {
   "cell_type": "markdown",
   "metadata": {},
   "source": [
    "Plotta alla respondenter."
   ]
  },
  {
   "cell_type": "code",
   "execution_count": 8,
   "metadata": {},
   "outputs": [
    {
     "data": {
      "image/png": "[encoded data removed]",
      "text/plain": [
       "<matplotlib.figure.Figure at 0x10d975be0>"
      ]
     },
     "metadata": {},
     "output_type": "display_data"
    },
    {
     "data": {
      "image/png": "[encoded data removed]",
      "text/plain": [
       "<matplotlib.figure.Figure at 0x10d3de588>"
      ]
     },
     "metadata": {},
     "output_type": "display_data"
    },
    {
     "data": {
      "image/png": "[encoded data removed]",
      "text/plain": [
       "<matplotlib.figure.Figure at 0x10d97e8d0>"
      ]
     },
     "metadata": {},
     "output_type": "display_data"
    },
    {
     "data": {
      "image/png": "[encoded data removed]",
      "text/plain": [
       "<matplotlib.figure.Figure at 0x10d89aef0>"
      ]
     },
     "metadata": {},
     "output_type": "display_data"
    },
    {
     "data": {
      "image/png": "[encoded data removed]",
      "text/plain": [
       "<matplotlib.figure.Figure at 0x10d89a0b8>"
      ]
     },
     "metadata": {},
     "output_type": "display_data"
    }
   ],
   "source": [
    "for row in dataset[0:5]: # Bara de första skrivs ut här!\n",
    "    plt.axvline(row[0:7].mean(), color='b', linestyle='dashed', linewidth=2)\n",
    "    plt.axvline(np.median(row[0:7]), color='r', linestyle='dashed', linewidth=2)\n",
    "    plt.hist(row[0:7])\n",
    "    plt.show()"
   ]
  },
  {
   "cell_type": "markdown",
   "metadata": {},
   "source": [
    "Sen kan man om man vill plotta alla svar på motsvarande sätt. Har man några konstiga respondenter kan man ta bort dem också. "
   ]
  },
  {
   "cell_type": "code",
   "execution_count": null,
   "metadata": {
    "collapsed": true
   },
   "outputs": [],
   "source": []
  },
  {
   "cell_type": "code",
   "execution_count": null,
   "metadata": {
    "collapsed": true
   },
   "outputs": [],
   "source": []
  },
  {
   "cell_type": "code",
   "execution_count": null,
   "metadata": {
    "collapsed": true
   },
   "outputs": [],
   "source": []
  }
 ],
 "metadata": {
  "kernelspec": {
   "display_name": "Python 3",
   "language": "python",
   "name": "python3"
  },
  "language_info": {
   "codemirror_mode": {
    "name": "ipython",
    "version": 3
   },
   "file_extension": ".py",
   "mimetype": "text/x-python",
   "name": "python",
   "nbconvert_exporter": "python",
   "pygments_lexer": "ipython3",
   "version": "3.6.1"
  }
 },
 "nbformat": 4,
 "nbformat_minor": 2
}
